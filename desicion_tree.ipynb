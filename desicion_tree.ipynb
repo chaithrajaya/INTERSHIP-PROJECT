{
  "cells": [
    {
      "cell_type": "markdown",
      "metadata": {
        "id": "view-in-github",
        "colab_type": "text"
      },
      "source": [
        "<a href=\"https://colab.research.google.com/github/chaithrajaya/INTERSHIP-PROJECT/blob/main/desicion_tree.ipynb\" target=\"_parent\"><img src=\"https://colab.research.google.com/assets/colab-badge.svg\" alt=\"Open In Colab\"/></a>"
      ]
    },
    {
      "cell_type": "code",
      "execution_count": null,
      "id": "b15c9098",
      "metadata": {
        "id": "b15c9098"
      },
      "outputs": [],
      "source": [
        "import pandas as pd\n",
        "from sklearn.model_selection import train_test_split, GridSearchCV, cross_val_score\n",
        "from sklearn.ensemble import RandomForestClassifier\n",
        "from sklearn.preprocessing import LabelEncoder\n",
        "from sklearn.metrics import accuracy_score, classification_report, confusion_matrix\n",
        "from google.colab import files\n",
        "from sklearn.tree import DecisionTreeClassifier"
      ]
    },
    {
      "cell_type": "code",
      "source": [
        "import pandas as pd\n",
        "from google.colab import files\n",
        "\n",
        "uploaded = files.upload()  # Manually upload 'desicion tree.csv'\n",
        "df = pd.read_csv(\"desicion tree.csv\")\n"
      ],
      "metadata": {
        "id": "i2e1pqCBoZy1"
      },
      "id": "i2e1pqCBoZy1",
      "execution_count": null,
      "outputs": []
    },
    {
      "cell_type": "code",
      "execution_count": null,
      "id": "e2824513",
      "metadata": {
        "id": "e2824513"
      },
      "outputs": [],
      "source": [
        "df.head()"
      ]
    },
    {
      "cell_type": "code",
      "execution_count": null,
      "id": "230f4227",
      "metadata": {
        "id": "230f4227"
      },
      "outputs": [],
      "source": [
        "df.info()"
      ]
    },
    {
      "cell_type": "code",
      "execution_count": null,
      "id": "72430d3f",
      "metadata": {
        "id": "72430d3f"
      },
      "outputs": [],
      "source": [
        "null_counts = df.isnull().sum()\n",
        "null_counts"
      ]
    },
    {
      "cell_type": "code",
      "source": [
        "df = df.dropna()"
      ],
      "metadata": {
        "id": "TCnD81S2KYPT"
      },
      "id": "TCnD81S2KYPT",
      "execution_count": null,
      "outputs": []
    },
    {
      "cell_type": "code",
      "execution_count": null,
      "id": "3a30c341",
      "metadata": {
        "id": "3a30c341"
      },
      "outputs": [],
      "source": [
        "df.describe()"
      ]
    },
    {
      "cell_type": "code",
      "execution_count": null,
      "id": "d0c55bef",
      "metadata": {
        "id": "d0c55bef"
      },
      "outputs": [],
      "source": [
        "X=df.drop('target',axis=1)\n",
        "y=df['target']"
      ]
    },
    {
      "cell_type": "code",
      "execution_count": null,
      "id": "01d33ddc",
      "metadata": {
        "id": "01d33ddc"
      },
      "outputs": [],
      "source": [
        "X_train, X_test, y_train, y_test = train_test_split(X, y, test_size=0.2, random_state=42)\n"
      ]
    },
    {
      "cell_type": "code",
      "execution_count": null,
      "id": "5bfb164b",
      "metadata": {
        "id": "5bfb164b"
      },
      "outputs": [],
      "source": [
        "X_train.head()"
      ]
    },
    {
      "cell_type": "code",
      "execution_count": null,
      "id": "e8395e1f",
      "metadata": {
        "id": "e8395e1f"
      },
      "outputs": [],
      "source": [
        "y_train.head()"
      ]
    },
    {
      "cell_type": "code",
      "execution_count": null,
      "id": "e28dbec4",
      "metadata": {
        "id": "e28dbec4"
      },
      "outputs": [],
      "source": [
        "from sklearn.tree import DecisionTreeClassifier\n",
        "model = DecisionTreeClassifier(criterion='entropy', random_state=42, max_depth=5, min_samples_leaf=5)\n",
        "model.fit(X_train, y_train)"
      ]
    },
    {
      "cell_type": "code",
      "execution_count": null,
      "id": "3de2f726",
      "metadata": {
        "id": "3de2f726"
      },
      "outputs": [],
      "source": [
        "y_pred = model.predict(X_test)\n",
        "y_pred"
      ]
    },
    {
      "cell_type": "code",
      "execution_count": null,
      "id": "8bc026e6",
      "metadata": {
        "id": "8bc026e6"
      },
      "outputs": [],
      "source": [
        "from sklearn.metrics import accuracy_score\n",
        "\n",
        "accuracy = accuracy_score(y_test, y_pred)\n",
        "accuracy"
      ]
    },
    {
      "cell_type": "code",
      "source": [
        "import pandas as pd\n",
        "\n",
        "# Convert X_test to DataFrame with the same column names as X_train\n",
        "X_test_df = pd.DataFrame(X_test, columns=X_train.columns)\n",
        "\n",
        "# Now make predictions\n",
        "predictions = model.predict(X_test_df)\n",
        "print(predictions)\n"
      ],
      "metadata": {
        "id": "lSHIXndzpEFX"
      },
      "id": "lSHIXndzpEFX",
      "execution_count": null,
      "outputs": []
    },
    {
      "cell_type": "code",
      "execution_count": null,
      "id": "5f8bee07",
      "metadata": {
        "id": "5f8bee07"
      },
      "outputs": [],
      "source": [
        "import pandas as pd\n",
        "\n",
        "# Ensure column names match training data\n",
        "columns = X_train.columns  # Use the same columns as training data\n",
        "\n",
        "# Convert input into a DataFrame\n",
        "input_data = pd.DataFrame([[55,1,0,132,353,0,1,132,1,1.2,1,1,3]], columns=columns)\n",
        "\n",
        "# Predict using the model\n",
        "prediction = model.predict(input_data)\n",
        "print(prediction)\n"
      ]
    },
    {
      "cell_type": "code",
      "source": [
        "from sklearn.tree import plot_tree\n",
        "import matplotlib.pyplot as plt\n",
        "\n",
        "plt.figure(figsize=(11, 10))  # Adjust figure size for better readability\n",
        "plot_tree(model, filled=True, feature_names=X_train.columns, class_names=[\"Class 0\", \"Class 1\"])\n",
        "plt.show()\n"
      ],
      "metadata": {
        "id": "HOjsks7Spkni"
      },
      "id": "HOjsks7Spkni",
      "execution_count": null,
      "outputs": []
    }
  ],
  "metadata": {
    "kernelspec": {
      "display_name": "Python 3 (ipykernel)",
      "language": "python",
      "name": "python3"
    },
    "language_info": {
      "codemirror_mode": {
        "name": "ipython",
        "version": 3
      },
      "file_extension": ".py",
      "mimetype": "text/x-python",
      "name": "python",
      "nbconvert_exporter": "python",
      "pygments_lexer": "ipython3",
      "version": "3.11.5"
    },
    "colab": {
      "provenance": [],
      "include_colab_link": true
    }
  },
  "nbformat": 4,
  "nbformat_minor": 5
}